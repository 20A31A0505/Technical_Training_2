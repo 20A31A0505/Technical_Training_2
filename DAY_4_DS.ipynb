{
  "nbformat": 4,
  "nbformat_minor": 0,
  "metadata": {
    "colab": {
      "provenance": [],
      "authorship_tag": "ABX9TyPvv+rgI6p7EQWmBHJycPy9",
      "include_colab_link": true
    },
    "kernelspec": {
      "name": "python3",
      "display_name": "Python 3"
    },
    "language_info": {
      "name": "python"
    }
  },
  "cells": [
    {
      "cell_type": "markdown",
      "metadata": {
        "id": "view-in-github",
        "colab_type": "text"
      },
      "source": [
        "<a href=\"https://colab.research.google.com/github/20A31A0505/Technical_Training_2/blob/main/DAY_4_DS.ipynb\" target=\"_parent\"><img src=\"https://colab.research.google.com/assets/colab-badge.svg\" alt=\"Open In Colab\"/></a>"
      ]
    },
    {
      "cell_type": "code",
      "source": [
        "a=list(map(int,input().split()))\n",
        "sum=0\n",
        "for i in a:\n",
        "  sum=sum+i\n",
        "print(sum)"
      ],
      "metadata": {
        "colab": {
          "base_uri": "https://localhost:8080/"
        },
        "id": "HxPXXDp5rVZ_",
        "outputId": "3ae118dc-aff5-4e3e-9e72-076c25d59719"
      },
      "execution_count": null,
      "outputs": [
        {
          "output_type": "stream",
          "name": "stdout",
          "text": [
            "1 2 3 4 5\n",
            "15\n"
          ]
        }
      ]
    },
    {
      "cell_type": "code",
      "source": [
        "n=int(input(\"Enter the size :\"))\n",
        "a=list(map(int,input().split()))[n:]\n",
        "sum=0\n",
        "for i in a:\n",
        "  sum=sum+i\n",
        "print(sum)"
      ],
      "metadata": {
        "colab": {
          "base_uri": "https://localhost:8080/"
        },
        "id": "qrQBRIWHtmD-",
        "outputId": "b984c93d-cf35-4ea4-bd8d-78e7349b3f43"
      },
      "execution_count": null,
      "outputs": [
        {
          "output_type": "stream",
          "name": "stdout",
          "text": [
            "Enter the size :4\n",
            "1 2 3 4 5 6 7  8 \n",
            "26\n"
          ]
        }
      ]
    },
    {
      "cell_type": "markdown",
      "source": [
        "#CIRCULAR QUEUE \n",
        "\n",
        "ADVANTAGE\n",
        "\n",
        "With linear queue empty spaces we get after performing dequeue operation cannot be used, however it is very much possible when we make that linear queue as circular queue.This is the advantage of Circular Queue."
      ],
      "metadata": {
        "id": "t5VYTIUEyu2W"
      }
    },
    {
      "cell_type": "code",
      "source": [
        "#CIRCULAR QUEUE IMPLEMENTATION\n",
        "class CircularQueue:\n",
        "  def __init__(self,size):\n",
        "    self.size=size\n",
        "    self.queue=[None for i in range(size)]\n",
        "    self.front=self.rear=-1\n",
        "  def enqueue(self,data):\n",
        "    if((self.rear+1) % self.size == self.front):\n",
        "      print(\"Queue is full\\n\")\n",
        "    elif (self.front == -1):\n",
        "      self.front=0\n",
        "      self.rear=0\n",
        "      self.queue[self.rear] = data\n",
        "    else:\n",
        "      self.rear = (self.rear +1) % self.size\n",
        "      self.queue[self.rear] = data\n",
        "  def dequeue(self):\n",
        "    if(self.front == -1):\n",
        "      print(\"Queue is empty\\n\")\n",
        "    elif(self.front == self.rear):\n",
        "      temp=self.queue[self.front]\n",
        "      self.front = -1\n",
        "      self.rear = -1\n",
        "      return temp\n",
        "    else :\n",
        "      temp= self.queue[self.front]\n",
        "      self.front = (self.front + 1) % self.size\n",
        "      return temp\n",
        "  def display(self):\n",
        "    if(self.front == -1):\n",
        "      print(\"\\nQueue is empty\")\n",
        "    elif (self.rear >= self.front):\n",
        "      print(\"\\nElements in the circular queue :\", end= \" \")\n",
        "      for i in range(self.front,self.rear + 1):\n",
        "        print(self.queue[i], end =\" \")\n",
        "        print()\n",
        "      else :\n",
        "        print(\"\\nElements in circular queue are :\", end=\" \")\n",
        "        for i in range(self.front,self.size):\n",
        "          print(self.queue[i],end=\" \")\n",
        "        for i in range(0,self.rear+1):\n",
        "          print(self.queue[i],end=\" \")\n",
        "      if(self.rear+1) % self.size == self.front :\n",
        "        print(\"\\n Queue is full\\n\")\n",
        "ob=CircularQueue(5)\n",
        "ob.enqueue(14)\n",
        "ob.enqueue(22)\n",
        "ob.enqueue(13)\n",
        "ob.enqueue(-6)\n",
        "ob.display()\n",
        "print(\"\\nDeleted value = \",ob.dequeue())\n",
        "print(\"\\nDeleted value = \",ob.dequeue())\n",
        "ob.display()\n",
        "ob.enqueue(9)\n",
        "ob.enqueue(20)\n",
        "ob.enqueue(5)\n",
        "ob.display()\n",
        "ob.enqueue(33)"
      ],
      "metadata": {
        "colab": {
          "base_uri": "https://localhost:8080/"
        },
        "id": "qRZce3CzyyKO",
        "outputId": "b74b8d6f-806c-4cde-f8e0-07af6861b903"
      },
      "execution_count": null,
      "outputs": [
        {
          "output_type": "stream",
          "name": "stdout",
          "text": [
            "\n",
            "Elements in the circular queue : 14 \n",
            "22 \n",
            "13 \n",
            "-6 \n",
            "\n",
            "Elements in circular queue are : 14 22 13 -6 None 14 22 13 -6 \n",
            "Deleted value =  14\n",
            "\n",
            "Deleted value =  22\n",
            "\n",
            "Elements in the circular queue : 13 \n",
            "-6 \n",
            "\n",
            "Elements in circular queue are : 13 -6 None 14 22 13 -6 Queue is full\n",
            "\n"
          ]
        }
      ]
    },
    {
      "cell_type": "markdown",
      "source": [
        "Find out in circular queue when rear will be greater than front in circular queue?"
      ],
      "metadata": {
        "id": "_m0Z-t-b09v9"
      }
    },
    {
      "cell_type": "markdown",
      "source": [
        "#TREE\n",
        "\n",
        "In a tree nodes can have \"n\" no.of children.\n",
        "\n",
        "Depth is calculated from top i.e., depth of the root node is zero.\n",
        "\n",
        "Height is calculated from bottom i.e., height of the last node is zero."
      ],
      "metadata": {
        "id": "MDG0Mv24mI57"
      }
    },
    {
      "cell_type": "markdown",
      "source": [
        "**TYPES OF TREES** \n",
        "\n",
        "\n",
        "*   BINARY TREE \n",
        "       * A NODE CAN HAVE MAXIMUM TWO CHILDREN\n",
        "       * LEVEL ORDER TRAVERSAL :\n",
        "\n",
        "         * WE HAVE TO TRAVERSE LEVEL BY LEVEL  PROCEEDING FROM LEFT TO RIGHT.\n",
        "\n"
      ],
      "metadata": {
        "id": "iWrWK0_9nJ_M"
      }
    },
    {
      "cell_type": "code",
      "source": [
        "#BINARY TREE IMPLEMENTATION\n",
        "class BinaryTreeNode:\n",
        "  def __init__(self,data):\n",
        "    self.data=data\n",
        "    self.leftChild=None\n",
        "    self.rightChild=None\n",
        "node1=BinaryTreeNode(40)\n",
        "node2=BinaryTreeNode(80)\n",
        "node3=BinaryTreeNode(20)\n",
        "node4=BinaryTreeNode(90)\n",
        "node5=BinaryTreeNode(10)\n",
        "node6=BinaryTreeNode(50)\n",
        "node7=BinaryTreeNode(60)\n",
        "\n",
        "node1.leftChild=node2\n",
        "node1.rightChild=node3\n",
        "node2.leftChild=node4\n",
        "node2.rightChild=node5\n",
        "node3.rightChild=node6\n",
        "node6.leftChild=node7\n",
        "print(\"Root Node is :\",node1.data)\n",
        "print(\"Left child of root node is :\",node4.data)\n",
        "print(\"Right child of root node is :\",node3.data)\n",
        "print(\"Leaf Node is :\",node7.data)"
      ],
      "metadata": {
        "colab": {
          "base_uri": "https://localhost:8080/"
        },
        "id": "Y_-qWlvmpeqU",
        "outputId": "107e9128-3c34-45c1-b047-c4805b7845b7"
      },
      "execution_count": 2,
      "outputs": [
        {
          "output_type": "stream",
          "name": "stdout",
          "text": [
            "Root Node is : 40\n",
            "Left child of root node is : 90\n",
            "Right child of root node is : 20\n",
            "Leaf Node is : 60\n"
          ]
        }
      ]
    },
    {
      "cell_type": "markdown",
      "source": [
        "***BINARY TREE INSERTION ***\n",
        "\n",
        "  * WE WILL DO LEVEL ORDER TRAVERSAL , TILL WE FIND A EMPTY SPACE.\n",
        "\n",
        "  * IN THAT EMPTY SPACE NEW NODE WILL BE INSERTED."
      ],
      "metadata": {
        "id": "JrboXazBuLQ7"
      }
    },
    {
      "cell_type": "code",
      "source": [
        "#BINARY TREE INSERTION\n",
        "class newNode():\n",
        "  def __init__(self,data):\n",
        "    self.key=data\n",
        "    self.left=None\n",
        "    self.right=None\n",
        "def inorder(temp):\n",
        "  if(not temp):\n",
        "    return\n",
        "  inorder(temp.left)\n",
        "  print(temp.key,end = \" \")\n",
        "  inorder(temp.right)\n",
        "def insert(temp,key):\n",
        "  if not temp:\n",
        "    root = newNode(key)\n",
        "    return\n",
        "  q=[]\n",
        "  q.append(temp)\n",
        "  print(\"\\n\")\n",
        "  print(type(q))\n",
        "  print(len(q))\n",
        "  while (len(q)):\n",
        "    print(len(q))\n",
        "    temp = q[0]\n",
        "    q.pop(0)\n",
        "    if (not temp.left):\n",
        "      temp.left= newNode(key)\n",
        "      break\n",
        "    else:\n",
        "      q.append(temp.left)\n",
        "    if(not temp.right):\n",
        "      temp.right= newNode(key)\n",
        "      break\n",
        "    else:\n",
        "      q.append(temp.right)\n",
        "if __name__ == \"__main__\":\n",
        "  root=newNode(10)\n",
        "  root.left=newNode(11)\n",
        "  root.left.left=newNode(7)\n",
        "  root.right=newNode(9)\n",
        "  root.right.left=newNode(15)\n",
        "  root.right.right=newNode(8)\n",
        "  print(\"Inorder traversal before insertion :\",end=\" \")\n",
        "  inorder(root)\n",
        "  key=12\n",
        "  insert(root,key)\n",
        "  print()\n",
        "  print(\"Inorder traversal after insertion :\",end=\" \")\n",
        "  inorder(root)"
      ],
      "metadata": {
        "colab": {
          "base_uri": "https://localhost:8080/"
        },
        "id": "edVuwMeNuJ89",
        "outputId": "42766010-024f-4a19-dee9-331671a80369"
      },
      "execution_count": 9,
      "outputs": [
        {
          "output_type": "stream",
          "name": "stdout",
          "text": [
            "Inorder traversal before insertion : 7 11 10 15 9 8 \n",
            "\n",
            "<class 'list'>\n",
            "1\n",
            "1\n",
            "2\n",
            "\n",
            "Inorder traversal after insertion : 7 11 12 10 15 9 8 "
          ]
        }
      ]
    },
    {
      "cell_type": "markdown",
      "source": [
        "**TREE TRAVERSAL TECHNIQUES**\n",
        "\n",
        "\n",
        "1.   BFS / LEVEL ORDER TRAVERSAL \n",
        "2.   DFS (DEPTH FIRST SEARCH)\n",
        "         \n",
        " *   PRE ORDER TRAVERSAL (ROOT --> LEFT --> RIGHT) (DLR)\n",
        " *   IN ORDER TRAVERSAL  (LEFT --> ROOT --> RIGHT) (LDR)\n",
        " *   POST ORDER TRAVERSAL (LEFT --> RIGHT --> ROOT) (LRD)\n",
        "         \n",
        "      where D -->Root\n",
        "\n",
        "\n"
      ],
      "metadata": {
        "id": "ygGGpwpXtBMs"
      }
    },
    {
      "cell_type": "code",
      "source": [
        "#TRAVERSALS \n",
        "class Node:\n",
        "  def __init__(self,key):\n",
        "    self.left= None\n",
        "    self.right=None\n",
        "    self.val=key\n",
        "def printInorder(root):\n",
        "  if root:\n",
        "    printInorder(root.left)\n",
        "    print(root.val,end=\" \")\n",
        "    printInorder(root.right)\n",
        "def printPostorder(root):\n",
        "  if root:\n",
        "    printPostorder(root.left)\n",
        "    printPostorder(root.right)\n",
        "    print(root.val,end=\" \")\n",
        "def printPreorder(root):\n",
        "  if root:\n",
        "    print(root.val,end=\" \")\n",
        "    printPreorder(root.left)\n",
        "    printPreorder(root.right)\n",
        "root=Node(1)\n",
        "root.left=Node(2)\n",
        "root.right=Node(3)\n",
        "root.left.left=Node(4)\n",
        "root.left.right=Node(5)\n",
        "print(\"PRE-ORDER :\")\n",
        "printPreorder(root)\n",
        "print()\n",
        "print(\"\\nPOST-ORDER :\")\n",
        "printPostorder(root)\n",
        "print()\n",
        "print(\"\\nIN-ORDER :\")\n",
        "printInorder(root)\n",
        "print()"
      ],
      "metadata": {
        "colab": {
          "base_uri": "https://localhost:8080/"
        },
        "id": "xFNY7NWV3507",
        "outputId": "0b38b69d-a3e0-4cd0-9a34-18f01efbb095"
      },
      "execution_count": 10,
      "outputs": [
        {
          "output_type": "stream",
          "name": "stdout",
          "text": [
            "PRE-ORDER :\n",
            "1 2 4 5 3 \n",
            "\n",
            "POST-ORDER :\n",
            "4 5 2 3 1 \n",
            "\n",
            "IN-ORDER :\n",
            "4 2 5 1 3 \n"
          ]
        }
      ]
    }
  ]
}