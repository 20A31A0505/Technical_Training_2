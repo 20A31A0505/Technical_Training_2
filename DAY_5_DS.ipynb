{
  "nbformat": 4,
  "nbformat_minor": 0,
  "metadata": {
    "colab": {
      "provenance": [],
      "authorship_tag": "ABX9TyP8aiRbAMG8RKDV6ooBk2QD",
      "include_colab_link": true
    },
    "kernelspec": {
      "name": "python3",
      "display_name": "Python 3"
    },
    "language_info": {
      "name": "python"
    }
  },
  "cells": [
    {
      "cell_type": "markdown",
      "metadata": {
        "id": "view-in-github",
        "colab_type": "text"
      },
      "source": [
        "<a href=\"https://colab.research.google.com/github/20A31A0505/Technical_Training_2/blob/main/DAY_5_DS.ipynb\" target=\"_parent\"><img src=\"https://colab.research.google.com/assets/colab-badge.svg\" alt=\"Open In Colab\"/></a>"
      ]
    },
    {
      "cell_type": "code",
      "execution_count": null,
      "metadata": {
        "colab": {
          "base_uri": "https://localhost:8080/"
        },
        "id": "VJ9fVC_NxuGv",
        "outputId": "54d49c92-5a6e-4740-a141-6cafacf18ba9"
      },
      "outputs": [
        {
          "output_type": "stream",
          "name": "stdout",
          "text": [
            "Charley has 2 kid(s):\n",
            "Sam, and Nila\n",
            "Devi has 3 kid(s):\n",
            "Tommy, and Timmy, and Tammy\n",
            "Carlos has 2 kid(s):\n",
            "Diego, and Feirret\n"
          ]
        }
      ],
      "source": [
        "#Dictionary(Forest of 3 trees:)\n",
        "Families = {\n",
        "    'Charley':{\"Sam\":{\"Boxy\",\"Rosy\"},\"Nila\":{\"Pepsi\"}},\n",
        "    \"Devi\":{\"Tommy\":{\"Tony\"},\"Timmy\":{\"Hamster\"},\"Tammy\":{\"Hamster\"}},\n",
        "    \"Carlos\":{\"Diego\":\"Cat\",\"Feirret\":\"Fox\"}\n",
        "}\n",
        "for Parent, Children in Families.items():\n",
        "  print(f\"{Parent} has {len(Children)} kid(s):\")\n",
        "  print(f\"{', and '.join([str(Child) for Child in [*Children]])}\") #.join is used to concatenate strings"
      ]
    },
    {
      "cell_type": "markdown",
      "source": [
        "#BINARY SEARCH TREE"
      ],
      "metadata": {
        "id": "htsFUe8dByJ8"
      }
    },
    {
      "cell_type": "code",
      "source": [
        "#BST INSERTION/IMPLEMENTATION\n",
        "class Node:\n",
        "  def __init__(self,key):\n",
        "    self.left=None\n",
        "    self.right=None\n",
        "    self.val=key\n",
        "def insert(root,key):\n",
        "  if root is None:\n",
        "    return Node(key)\n",
        "  else:\n",
        "     if root.val == key:\n",
        "       return root\n",
        "     elif root.val < key:\n",
        "       root.right=insert(root.right,key)\n",
        "     else:\n",
        "       root.left=insert(root.left,key)\n",
        "     return root\n",
        "def inorder(root):\n",
        "  if root:\n",
        "    inorder(root.left)\n",
        "    print(root.val)\n",
        "    inorder(root.right)\n",
        "r=Node(50)\n",
        "r = insert(r, 30)\n",
        "r = insert(r, 20)\n",
        "r = insert(r, 40)\n",
        "r = insert(r, 70)\n",
        "r = insert(r, 60)\n",
        "r = insert(r, 80)\n",
        "inorder(r)"
      ],
      "metadata": {
        "colab": {
          "base_uri": "https://localhost:8080/"
        },
        "id": "LRTBlBvDBwbV",
        "outputId": "1dbc512d-24c5-4ff9-c452-1e60fa12671e"
      },
      "execution_count": null,
      "outputs": [
        {
          "output_type": "stream",
          "name": "stdout",
          "text": [
            "20\n",
            "30\n",
            "40\n",
            "50\n",
            "60\n",
            "70\n",
            "80\n"
          ]
        }
      ]
    },
    {
      "cell_type": "markdown",
      "source": [
        "####**DELETION IN BST**\n",
        "\n",
        "There are three cases :\n",
        "\n",
        "\n",
        "1.   Deleting a node which has no children.\n",
        "2.   Deleting a node which has one child.\n",
        "\n",
        "1.   Deleting a node which has two children.\n",
        "\n",
        "* In the first case we can directly delete the node.\n",
        "* In the second case, replace the node which needs to be deleted with its child node.\n",
        "* In the third case, select Inorder Predecessor from left side or Inorder Successor from right side and replace the nodes to be deleted with them.\n",
        "\n",
        "**INORDER PREDECESSOR:**\n",
        "   Its in left side, biggest number among other nodes.\n",
        "\n",
        "**INORDER SUCCESSOR:**\n",
        "Its in right side, smallest number among other nodes.\n",
        "\n",
        "\n",
        "\n"
      ],
      "metadata": {
        "id": "qps61heKIQZ1"
      }
    },
    {
      "cell_type": "code",
      "source": [
        "#BST DELETION\n",
        "class Node:\n",
        "  def __init__(self,key):\n",
        "    self.key=key\n",
        "    self.left=None\n",
        "    self.right=None\n",
        "def inorder(root):\n",
        "  if root is not None:\n",
        "    inorder(root.left)\n",
        "    print(root.key)\n",
        "    inorder(root.right)\n",
        "def insert(node,key):\n",
        "  if node is None:\n",
        "    return Node(key)\n",
        "  if key<node.key:\n",
        "    node.left = insert(node.left,key)\n",
        "  else:\n",
        "    node.right = insert(node.right,key)\n",
        "  return node\n",
        "def minValue(node):\n",
        "  current = node\n",
        "  while(current.left is not None):\n",
        "    current=current.left\n",
        "  return current\n",
        "def deleteNode(root,key):\n",
        "  if root is None:\n",
        "    return root\n",
        "  if key<root.key:\n",
        "    root.left=deleteNode(root.left,key)\n",
        "  elif (key>root.key):\n",
        "    root.right=deleteNode(root.right,key)\n",
        "  else:\n",
        "    if root.left is None:\n",
        "      temp=root.right\n",
        "      root=None\n",
        "      return temp\n",
        "    elif root.right is None:\n",
        "      temp=root.left\n",
        "      root=None\n",
        "      return temp\n",
        "    temp=minValue(root.right)\n",
        "    root.key=temp.key\n",
        "    root.right=deleteNode(root.right,temp.key)\n",
        "  return root\n",
        "root=None\n",
        "root=insert(root, 50)\n",
        "root=insert(root, 30)\n",
        "root=insert(root, 20)\n",
        "root=insert(root, 40)\n",
        "root=insert(root, 70)\n",
        "root=insert(root, 60)\n",
        "root=insert(root, 80)\n",
        "print(\"Inorder traversal of the tree:\")\n",
        "inorder(root)\n",
        "print(\"\\nInorder traversal of the modified tree:\")\n",
        "print(\"Delete 20\")\n",
        "root=deleteNode(root,20)\n",
        "inorder(root)\n",
        "print(\"\\nInorder traversal of the modified tree:\")\n",
        "print(\"Delete 30\")\n",
        "root=deleteNode(root,30)\n",
        "inorder(root)\n",
        "print(\"\\nInorder traversal of the modified tree:\")\n",
        "print(\"Delete 50\")\n",
        "root=deleteNode(root,50)\n",
        "inorder(root)"
      ],
      "metadata": {
        "colab": {
          "base_uri": "https://localhost:8080/"
        },
        "id": "YDbjfw9KGYnF",
        "outputId": "8c94d5a3-3ccb-41fc-c844-ebcafda9ac8f"
      },
      "execution_count": null,
      "outputs": [
        {
          "output_type": "stream",
          "name": "stdout",
          "text": [
            "Inorder traversal of the tree:\n",
            "20\n",
            "30\n",
            "40\n",
            "50\n",
            "60\n",
            "70\n",
            "80\n",
            "\n",
            "Inorder traversal of the modified tree:\n",
            "Delete 20\n",
            "30\n",
            "40\n",
            "50\n",
            "60\n",
            "70\n",
            "80\n",
            "\n",
            "Inorder traversal of the modified tree:\n",
            "Delete 30\n",
            "40\n",
            "50\n",
            "60\n",
            "70\n",
            "80\n",
            "\n",
            "Inorder traversal of the modified tree:\n",
            "Delete 50\n",
            "40\n",
            "60\n",
            "70\n",
            "80\n"
          ]
        }
      ]
    },
    {
      "cell_type": "markdown",
      "source": [
        "###**BST - DELETE NODE :**\n",
        "\n",
        "    --------------------\n",
        "\n",
        "STEP-1:\n",
        "\n",
        "        *Create BST\n",
        "            *Do insertion\n",
        "\n",
        "STEP-2:\n",
        "\n",
        "          *Search node you want to delete is present in tree or not\n",
        "            *how\n",
        "              * compare with root and keep xhexking right or left\n",
        "\n",
        "STEP-3:\n",
        "\n",
        "        *Once you locate the node,\n",
        "           check the node comes under which case\n",
        "           1.Leaf node\n",
        "           2.Node with 1 child\n",
        "           3.Node with 2 children\n",
        "\n",
        "STEP-4:\n",
        "\n",
        "        *If the case is 3\n",
        "               *Find out Inorder Predecessor or Inorder Successor\n",
        "\n",
        "STEP-5:\n",
        "\n",
        "        *To findout Inoder successor\n",
        "           *it will be at right\n",
        "              *so it will search for the smallest right node\n",
        "         \n",
        "\n"
      ],
      "metadata": {
        "id": "4l0ZhqMKs57K"
      }
    },
    {
      "cell_type": "code",
      "source": [
        "#BST SEARCH\n",
        "class Node:\n",
        "  def __init__(self,key):\n",
        "    self.left=None\n",
        "    self.right=None\n",
        "    self.val=key\n",
        "def insert(root,key):\n",
        "  if root is None:\n",
        "    return Node(key)\n",
        "  else:\n",
        "     if root.val == key:\n",
        "       return root\n",
        "     elif root.val < key:\n",
        "       root.right=insert(root.right,key)\n",
        "     else:\n",
        "       root.left=insert(root.left,key)\n",
        "     return root\n",
        "def inorder(root):\n",
        "  if root:\n",
        "    inorder(root.left)\n",
        "    print(root.val)\n",
        "    inorder(root.right)\n",
        "def search(root,key):\n",
        "  if root is None or root.val == key:\n",
        "    return root\n",
        "  if root.val < key:\n",
        "    return search(root.right,key)\n",
        "  else:\n",
        "    return search(root.left,key)\n",
        "r=Node(50)\n",
        "r = insert(r, 30)\n",
        "r = insert(r, 20)\n",
        "r = insert(r, 40)\n",
        "r = insert(r, 70)\n",
        "r = insert(r, 60)\n",
        "r = insert(r, 80)\n",
        "inorder(r)\n",
        "print(search(r,30))"
      ],
      "metadata": {
        "colab": {
          "base_uri": "https://localhost:8080/"
        },
        "id": "PDnKN49OvXBT",
        "outputId": "b99e3b99-9eb6-4cac-b04d-871375de0695"
      },
      "execution_count": null,
      "outputs": [
        {
          "output_type": "stream",
          "name": "stdout",
          "text": [
            "20\n",
            "30\n",
            "40\n",
            "50\n",
            "60\n",
            "70\n",
            "80\n",
            "<__main__.Node object at 0x7fb62f5e1490>\n"
          ]
        }
      ]
    },
    {
      "cell_type": "markdown",
      "source": [
        "#GRAPH\n",
        "  * VERTICES/ VERTEX\n",
        "  * EDGE"
      ],
      "metadata": {
        "id": "y8OHPN8pyDJS"
      }
    },
    {
      "cell_type": "markdown",
      "source": [
        "**TYPES OF GRAPH'S:**\n",
        "\n",
        "\n",
        "1.   Undirected Graph\n",
        "2.   Cyclic Graph\n",
        "\n",
        "1.   Directed Graph\n",
        "\n",
        "\n",
        "\n",
        "\n"
      ],
      "metadata": {
        "id": "8oG3tb9tyzex"
      }
    },
    {
      "cell_type": "code",
      "source": [
        "#IMPLEMENTATION OF GRAPHS USING DICTIONARY USING COLLECTIONS MODULE\n",
        "from collections import defaultdict\n",
        "graph=defaultdict(list)\n",
        "def addEdge(graph,u,v):\n",
        "  graph[u].append(v)\n",
        "def generate_edges(graph):\n",
        "  edges=[]\n",
        "  for node in graph:\n",
        "    for neighbour in graph[node]:\n",
        "      edges.append((node,neighbour))\n",
        "  return edges\n",
        "addEdge(graph,'a','c')\n",
        "addEdge(graph,'b','c')\n",
        "addEdge(graph,'b','e')\n",
        "addEdge(graph,'c','d')\n",
        "addEdge(graph,'c','e')\n",
        "addEdge(graph,'c','a')\n",
        "addEdge(graph,'c','b')\n",
        "addEdge(graph,'e','b')\n",
        "addEdge(graph,'d','c')\n",
        "addEdge(graph,'e','c')\n",
        "print(generate_edges(graph))"
      ],
      "metadata": {
        "colab": {
          "base_uri": "https://localhost:8080/"
        },
        "id": "BOudi8XMzlXC",
        "outputId": "09c9cfe0-9741-46c0-a434-38286c8beb0b"
      },
      "execution_count": null,
      "outputs": [
        {
          "output_type": "stream",
          "name": "stdout",
          "text": [
            "[('a', 'c'), ('b', 'c'), ('b', 'e'), ('c', 'd'), ('c', 'e'), ('c', 'a'), ('c', 'b'), ('e', 'b'), ('e', 'c'), ('d', 'c')]\n"
          ]
        }
      ]
    },
    {
      "cell_type": "markdown",
      "source": [
        "**REPRESENTATION OF GRAPHS:**\n",
        "\n",
        "\n",
        "1.   List of edges.\n",
        "2.   Adjacency List.\n",
        "3.    Adjacency Matrix.\n",
        "\n",
        "\n",
        "\n"
      ],
      "metadata": {
        "id": "Hf-IWZAf58r6"
      }
    },
    {
      "cell_type": "markdown",
      "source": [
        "**GRAPH TRAVERSAL**\n",
        "\n",
        "1.   BFS\n",
        "      *    In BFS we can start from any node and then visit all the adjacent nodes, then select any one adjacent node, repeat the procedure.\n",
        "\n",
        "2.   DFS\n",
        "\n",
        " *    Start traversing from any node select any one adjacent vertex and explore that vertex.\n",
        " *     Exploring a vertex means again select any one adjacent node for that and repeat the process.\n"
      ],
      "metadata": {
        "id": "YYz7aIaa89s5"
      }
    },
    {
      "cell_type": "code",
      "source": [
        "#BFS\n",
        "graph = {\n",
        "    '5' : ['3','7'],\n",
        "    '3' : ['2','4'],\n",
        "    '7' : ['8'],\n",
        "    '2' : [],\n",
        "    '4' : ['8'],\n",
        "    '8' : []\n",
        "}\n",
        "visited = []\n",
        "queue = []\n",
        "def bfs(visited,graph,node):\n",
        "  visited.append(node)\n",
        "  queue.append(node)\n",
        "  while queue:\n",
        "    m=queue.pop()\n",
        "    print(m, end=\" \")\n",
        "    for neighbour in graph[m]:\n",
        "      if neighbour not in visited:\n",
        "        visited.append(neighbour)\n",
        "        queue.append(neighbour)\n",
        "bfs(visited,graph,'5')\n"
      ],
      "metadata": {
        "colab": {
          "base_uri": "https://localhost:8080/"
        },
        "id": "2v9CvW1sIF7-",
        "outputId": "81429f81-ca0c-4b65-8b38-f14f46a9a4f2"
      },
      "execution_count": null,
      "outputs": [
        {
          "output_type": "stream",
          "name": "stdout",
          "text": [
            "5 7 8 3 4 2 "
          ]
        }
      ]
    }
  ]
}