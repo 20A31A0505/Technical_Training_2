{
  "nbformat": 4,
  "nbformat_minor": 0,
  "metadata": {
    "colab": {
      "provenance": [],
      "authorship_tag": "ABX9TyOqhNQzSCg32broZSmn/yzE",
      "include_colab_link": true
    },
    "kernelspec": {
      "name": "python3",
      "display_name": "Python 3"
    },
    "language_info": {
      "name": "python"
    }
  },
  "cells": [
    {
      "cell_type": "markdown",
      "metadata": {
        "id": "view-in-github",
        "colab_type": "text"
      },
      "source": [
        "<a href=\"https://colab.research.google.com/github/20A31A0505/Technical_Training_2/blob/main/DAY_2_DS.ipynb\" target=\"_parent\"><img src=\"https://colab.research.google.com/assets/colab-badge.svg\" alt=\"Open In Colab\"/></a>"
      ]
    },
    {
      "cell_type": "code",
      "execution_count": null,
      "metadata": {
        "colab": {
          "base_uri": "https://localhost:8080/"
        },
        "id": "y6_POFhyMQ2a",
        "outputId": "0f85c1af-2d51-42bb-b8b5-2c557aa0316d"
      },
      "outputs": [
        {
          "output_type": "stream",
          "name": "stdout",
          "text": [
            "SLL BEFORE INSERTION\n",
            "50 ==> 70 ==> 90 ==> 30 ==> None\n",
            "\n",
            "SLL AFTER INSERTING 100: \n",
            "50 ==> 100 ==> 70 ==> 90 ==> 30 ==> None\n",
            "\n",
            "SLL AFTER INSERTING 150 :\n",
            "50 ==> 100 ==> 70 ==> 150 ==> 90 ==> 30 ==> None\n"
          ]
        }
      ],
      "source": [
        "#SLL insertion at given position\n",
        "\n",
        "class Node:\n",
        "  def __init__(self,data):\n",
        "    self.data=data\n",
        "    self.next=None\n",
        "class singlelinkedlist:\n",
        "  def __init__(self):\n",
        "    self.head=None\n",
        "  def insert_position(self,pos,data):\n",
        "    nn=Node(data)\n",
        "    temp=self.head\n",
        "    for i in range(pos-1):\n",
        "      temp=temp.next\n",
        "    nn.next=temp.next\n",
        "    temp.next=nn\n",
        "  def display(self):\n",
        "    if self.head is None:\n",
        "      print(\"SLL is empty\")\n",
        "    else :\n",
        "      temp=self.head\n",
        "      while(temp):\n",
        "        print(temp.data,\"==>\",end=\" \")\n",
        "        temp=temp.next\n",
        "obj=singlelinkedlist()\n",
        "n1=Node(50)\n",
        "obj.head=n1\n",
        "n2=Node(70)\n",
        "n1.next=n2\n",
        "n3=Node(90)\n",
        "n2.next=n3\n",
        "n4=Node(30)\n",
        "n3.next=n4\n",
        "print(\"SLL BEFORE INSERTION\")\n",
        "print(obj.display())\n",
        "print(\"\\nSLL AFTER INSERTING 100: \")\n",
        "obj.insert_position(1,100)\n",
        "print(obj.display())\n",
        "print(\"\\nSLL AFTER INSERTING 150 :\")\n",
        "obj.insert_position(3,150)\n",
        "print(obj.display())"
      ]
    },
    {
      "cell_type": "markdown",
      "source": [
        "SLL DELETION OPERATIONS\n",
        "\n",
        "\n",
        "*   Deleting new node at the begining\n",
        "*   Deleting new node at the end\n",
        "*   Deletting new node at the given position\n"
      ],
      "metadata": {
        "id": "-_utVWzsuWGt"
      }
    },
    {
      "cell_type": "code",
      "source": [
        "#DELETION OF NODE AT FIRST POSITION(SLL)\n",
        "class Node:\n",
        "  def __init__(self,data):\n",
        "    self.data=data\n",
        "    self.next=None\n",
        "class singlelinkedlist:\n",
        "  def __init__(self):\n",
        "    self.head=None\n",
        "  def display(self):\n",
        "    if self.head is None:\n",
        "      print(\"SLL is empty\")\n",
        "    else :\n",
        "      temp=self.head\n",
        "      while(temp):\n",
        "        print(temp.data,\"==>\",end=\" \")\n",
        "        temp=temp.next\n",
        "  def delete(self):\n",
        "     temp=self.head\n",
        "     self.head=temp.next\n",
        "     temp.next=None\n",
        "obj=singlelinkedlist()\n",
        "n1=Node(50)\n",
        "obj.head=n1\n",
        "n2=Node(70)\n",
        "n1.next=n2\n",
        "n3=Node(90)\n",
        "n2.next=n3\n",
        "n4=Node(30)\n",
        "n3.next=n4\n",
        "print(\"SLL BEFORE DELETION\")\n",
        "print(obj.display())\n",
        "print(\"\\nSLL AFTER DELETION: \")\n",
        "obj.delete()\n",
        "print(obj.display())"
      ],
      "metadata": {
        "colab": {
          "base_uri": "https://localhost:8080/"
        },
        "id": "SRVmCCozagDu",
        "outputId": "381e7c47-21e0-483b-f183-266ae5266884"
      },
      "execution_count": null,
      "outputs": [
        {
          "output_type": "stream",
          "name": "stdout",
          "text": [
            "SLL BEFORE DELETION\n",
            "50 ==> 70 ==> 90 ==> 30 ==> None\n",
            "\n",
            "SLL AFTER DELETION: \n",
            "70 ==> 90 ==> 30 ==> None\n"
          ]
        }
      ]
    },
    {
      "cell_type": "code",
      "source": [
        "#DELETION OF NODE AT LAST POSITION(SLL)\n",
        "class Node:\n",
        "  def __init__(self,data):\n",
        "    self.data=data\n",
        "    self.next=None\n",
        "class singlelinkedlist:\n",
        "  def __init__(self):\n",
        "    self.head=None\n",
        "  def display(self):\n",
        "    if self.head is None:\n",
        "      print(\"SLL is empty\")\n",
        "    else :\n",
        "      temp=self.head\n",
        "      while(temp):\n",
        "        print(temp.data,\"==>\",end=\" \")\n",
        "        temp=temp.next\n",
        "  def delete(self):\n",
        "     temp=self.head.next\n",
        "     prev=self.head\n",
        "     while temp.next is not None :\n",
        "       temp=temp.next\n",
        "       prev=prev.next\n",
        "     prev.next=None\n",
        "obj=singlelinkedlist()\n",
        "n1=Node(50)\n",
        "obj.head=n1\n",
        "n2=Node(70)\n",
        "n1.next=n2\n",
        "n3=Node(90)\n",
        "n2.next=n3\n",
        "n4=Node(30)\n",
        "n3.next=n4\n",
        "print(\"SLL BEFORE DELETION\")\n",
        "print(obj.display())\n",
        "print(\"\\nSLL AFTER DELETION: \")\n",
        "obj.delete()\n",
        "print(obj.display())"
      ],
      "metadata": {
        "colab": {
          "base_uri": "https://localhost:8080/"
        },
        "id": "53fKre0XfEQO",
        "outputId": "7f848809-3efe-4727-b483-f4dfc605d959"
      },
      "execution_count": null,
      "outputs": [
        {
          "output_type": "stream",
          "name": "stdout",
          "text": [
            "SLL BEFORE DELETION\n",
            "50 ==> 70 ==> 90 ==> 30 ==> None\n",
            "\n",
            "SLL AFTER DELETION: \n",
            "50 ==> 70 ==> 90 ==> None\n"
          ]
        }
      ]
    },
    {
      "cell_type": "code",
      "source": [
        "#DELETION AT A GIVEN POSITION(SLL)\n",
        "class Node:\n",
        "  def __init__(self,data):\n",
        "    self.data=data\n",
        "    self.next=None\n",
        "class SLL:\n",
        "  def __init__(self):\n",
        "    self.head=None\n",
        "  def display(self):\n",
        "    if self.head is None:\n",
        "      print(\"SLL IS EMPTY\")\n",
        "    else :\n",
        "      temp=self.head\n",
        "      while(temp):\n",
        "        print(temp.data,\"==>\",end=\" \")\n",
        "        temp=temp.next\n",
        "  def delete_position(self,pos):\n",
        "    temp=self.head.next\n",
        "    prev=self.head\n",
        "    for i in range(1,pos-1):\n",
        "      temp=temp.next\n",
        "      prev=prev.next\n",
        "    prev.next=temp.next\n",
        "    temp.next=None\n",
        "obj=SLL()\n",
        "n1=Node(20)\n",
        "obj.head=n1\n",
        "n2=Node(40)\n",
        "n1.next=n2\n",
        "n3=Node(50)\n",
        "n2.next=n3\n",
        "n4=Node(60)\n",
        "n3.next=n4\n",
        "print(\"SLL BEFORE DELETION :\")\n",
        "print(obj.display())\n",
        "print(\"SLL AFTER DELETION :\")\n",
        "obj.delete_position(2)\n",
        "print(obj.display())"
      ],
      "metadata": {
        "colab": {
          "base_uri": "https://localhost:8080/"
        },
        "id": "nnSzahXck7Sl",
        "outputId": "eb3efea6-3123-4150-b5e8-edd4573c2974"
      },
      "execution_count": null,
      "outputs": [
        {
          "output_type": "stream",
          "name": "stdout",
          "text": [
            "SLL BEFORE DELETION :\n",
            "20 ==> 40 ==> 50 ==> 60 ==> None\n",
            "SLL AFTER DELETION :\n",
            "20 ==> 50 ==> 60 ==> None\n"
          ]
        }
      ]
    },
    {
      "cell_type": "code",
      "source": [
        "#DOUBLE LINKED LIST  CREATION\n",
        "class Node:\n",
        "  def __init__(self,data):\n",
        "    self.data=data\n",
        "    self.prev=None\n",
        "    self.next=None\n",
        "class DLL:\n",
        "  def __init__(self):\n",
        "    self.head=None\n",
        "  def display(self):\n",
        "    if self.head is None :\n",
        "      print(\"DLL IS EMPTY\")\n",
        "    else :\n",
        "      temp=self.head\n",
        "      while temp:\n",
        "        print(temp.data,\"<==>\",end=\" \")\n",
        "        temp=temp.next\n",
        "obj=DLL()\n",
        "n1=Node(100)\n",
        "obj.head=n1\n",
        "n2=Node(200)\n",
        "n2.prev=n1\n",
        "n1.next=n2\n",
        "print(obj.display())"
      ],
      "metadata": {
        "colab": {
          "base_uri": "https://localhost:8080/"
        },
        "id": "58VCW2NlrAF0",
        "outputId": "f8af0ff9-3134-4df0-aef5-4e3e4919b3d0"
      },
      "execution_count": null,
      "outputs": [
        {
          "output_type": "stream",
          "name": "stdout",
          "text": [
            "100 <==> 200 <==> None\n"
          ]
        }
      ]
    },
    {
      "cell_type": "markdown",
      "source": [
        "###PUZZLE\n",
        "WRITE A PROGRAM TO GUESS A RANDOM NUMBER"
      ],
      "metadata": {
        "id": "0llXBOVQFfMG"
      }
    },
    {
      "cell_type": "code",
      "source": [
        "#FINDING A NUMBER\n",
        "import random\n",
        "n=random.randrange(1,100)\n",
        "guess=int(input(\"Enter any number :\"))\n",
        "while n!=guess :\n",
        "  if guess < n :\n",
        "    print(\"Too low\")\n",
        "    guess=int(input(\"Enter number again :\"))\n",
        "  elif guess > n :\n",
        "    print(\"Too high\")\n",
        "    guess=int(input(\"Enter number again :\"))\n",
        "  else:\n",
        "    break\n",
        "print(\"Your guess is correct!!\")"
      ],
      "metadata": {
        "colab": {
          "base_uri": "https://localhost:8080/"
        },
        "id": "B4c9CLEOAvtY",
        "outputId": "3e720154-0585-4769-c33a-0b17d4ea758b"
      },
      "execution_count": null,
      "outputs": [
        {
          "output_type": "stream",
          "name": "stdout",
          "text": [
            "Enter any number :47\n",
            "Too low\n",
            "Enter number again :89\n",
            "Too high\n",
            "Enter number again :67\n",
            "Too high\n",
            "Enter number again :55\n",
            "Too low\n",
            "Enter number again :61\n",
            "Your guess is correct!!\n"
          ]
        }
      ]
    },
    {
      "cell_type": "markdown",
      "source": [
        "#INSERTION AT THE START\n",
        "\n",
        "\n",
        "1.   Create a new node with three segments(prev,data,next)\n",
        "2.   new.next=head\n",
        "\n",
        "1.   head.previous=new\n",
        "2.   new.previous=None\n",
        "1.   head=newnode\n",
        "\n",
        "\n",
        "\n",
        "\n",
        "\n"
      ],
      "metadata": {
        "id": "bZIrb5wYYMJm"
      }
    },
    {
      "cell_type": "code",
      "source": [
        "#DOUBLE LINKED LIST  INSERTION AT START\n",
        "class Node:\n",
        "  def __init__(self,data):\n",
        "    self.data=data\n",
        "    self.prev=None\n",
        "    self.next=None\n",
        "class DLL:\n",
        "  def __init__(self):\n",
        "    self.head=None\n",
        "  def display(self):\n",
        "    if self.head is None :\n",
        "      print(\"DLL IS EMPTY\")\n",
        "    else :\n",
        "      temp=self.head\n",
        "      while temp:\n",
        "        print(temp.data,\"<==>\",end=\" \")\n",
        "        temp=temp.next\n",
        "  def insert_start(self):\n",
        "    n=Node(300)\n",
        "    temp=self.head\n",
        "    temp.prev=n\n",
        "    n.next=temp\n",
        "    self.head=n\n",
        "obj=DLL()\n",
        "n1=Node(100)\n",
        "obj.head=n1\n",
        "n2=Node(200)\n",
        "n2.prev=n1\n",
        "n1.next=n2\n",
        "print(\"DLL BEFORE INSERTION :\")\n",
        "print(obj.display())\n",
        "print(\"\\nDLL AFTER INSERTION AT THE BEGINING:\")\n",
        "obj.insert_start()\n",
        "print(obj.display())"
      ],
      "metadata": {
        "colab": {
          "base_uri": "https://localhost:8080/"
        },
        "id": "Y3s_u0NLRxlv",
        "outputId": "6e69e6a4-26c3-4398-c074-7eb5c19a78d5"
      },
      "execution_count": null,
      "outputs": [
        {
          "output_type": "stream",
          "name": "stdout",
          "text": [
            "DLL BEFORE INSERTION :\n",
            "100 <==> 200 <==> None\n",
            "\n",
            "DLL AFTER INSERTION AT THE BEGINING:\n",
            "300 <==> 100 <==> 200 <==> None\n"
          ]
        }
      ]
    },
    {
      "cell_type": "code",
      "source": [
        "#DOUBLE LINKED LIST  INSERTION AT END\n",
        "class Node:\n",
        "  def __init__(self,data):\n",
        "    self.data=data\n",
        "    self.prev=None\n",
        "    self.next=None\n",
        "class DLL:\n",
        "  def __init__(self):\n",
        "    self.head=None\n",
        "  def display(self):\n",
        "    if self.head is None :\n",
        "      print(\"DLL IS EMPTY\")\n",
        "    else :\n",
        "      temp=self.head\n",
        "      while temp:\n",
        "        print(temp.data,\"<==>\",end=\" \")\n",
        "        temp=temp.next\n",
        "  def insert_end(self):\n",
        "    n=Node(300)\n",
        "    temp=self.head\n",
        "    while temp.next is not None:\n",
        "      temp=temp.next\n",
        "    temp.next=n\n",
        "    n.prev=temp\n",
        "obj=DLL()\n",
        "n1=Node(100)\n",
        "obj.head=n1\n",
        "n2=Node(200)\n",
        "n2.prev=n1\n",
        "n1.next=n2\n",
        "print(\"DLL BEFORE INSERTION :\")\n",
        "print(obj.display())\n",
        "print(\"\\nDLL AFTER INSERTION AT THE END:\")\n",
        "obj.insert_end()\n",
        "print(obj.display())"
      ],
      "metadata": {
        "colab": {
          "base_uri": "https://localhost:8080/"
        },
        "id": "6vEh2qdRVzTN",
        "outputId": "360691a4-4f08-4a09-d251-f0312c4c3ee4"
      },
      "execution_count": null,
      "outputs": [
        {
          "output_type": "stream",
          "name": "stdout",
          "text": [
            "DLL BEFORE INSERTION :\n",
            "100 <==> 200 <==> None\n",
            "\n",
            "DLL AFTER INSERTION AT THE END:\n",
            "100 <==> 200 <==> 300 <==> None\n"
          ]
        }
      ]
    },
    {
      "cell_type": "code",
      "source": [
        "#DOUBLE LINKED LIST  INSERTION AT ANY POSITION\n",
        "class Node:\n",
        "  def __init__(self,data):\n",
        "    self.data=data\n",
        "    self.prev=None\n",
        "    self.next=None\n",
        "class DLL:\n",
        "  def __init__(self):\n",
        "    self.head=None\n",
        "  def display(self):\n",
        "    if self.head is None :\n",
        "      print(\"DLL IS EMPTY\")\n",
        "    else :\n",
        "      temp=self.head\n",
        "      while temp:\n",
        "        print(temp.data,\"<==>\",end=\" \")\n",
        "        temp=temp.next\n",
        "  def insert_pos(self,pos):\n",
        "    n=Node(300)\n",
        "    temp=self.head\n",
        "    for i in range(1,pos-1):\n",
        "      temp=temp.next\n",
        "    n.prev=temp\n",
        "    n.next=temp.next\n",
        "    temp.next.prev=n\n",
        "    temp.next=n\n",
        "obj=DLL()\n",
        "n1=Node(100)\n",
        "obj.head=n1\n",
        "n2=Node(200)\n",
        "n2.prev=n1\n",
        "n1.next=n2\n",
        "print(\"DLL BEFORE INSERTION :\")\n",
        "print(obj.display())\n",
        "print(\"\\nDLL AFTER INSERTION :\")\n",
        "obj.insert_pos(2)\n",
        "print(obj.display())"
      ],
      "metadata": {
        "colab": {
          "base_uri": "https://localhost:8080/"
        },
        "id": "JJ-M96yoXYS_",
        "outputId": "a48ac7b7-6ab6-46d5-f849-b8c49512343c"
      },
      "execution_count": null,
      "outputs": [
        {
          "output_type": "stream",
          "name": "stdout",
          "text": [
            "DLL BEFORE INSERTION :\n",
            "100 <==> 200 <==> None\n",
            "\n",
            "DLL AFTER INSERTION :\n",
            "100 <==> 300 <==> 200 <==> None\n"
          ]
        }
      ]
    },
    {
      "cell_type": "markdown",
      "source": [
        "\n",
        "#DELETION AT START\n",
        "\n",
        "*   Temp=self.next\n",
        "*   temp.next.prev=Null\n",
        "*   self.head=temp.next\n",
        "*   temp.next=null\n",
        "\n",
        "\n",
        "\n"
      ],
      "metadata": {
        "id": "tlSgunh8d3b1"
      }
    },
    {
      "cell_type": "code",
      "source": [
        "#DELETION OF DLL AT START \n",
        "class Node:\n",
        "  def __init__(self,data):\n",
        "    self.data=data\n",
        "    self.prev=None\n",
        "    self.next=None\n",
        "class DLL:\n",
        "  def __init__(self):\n",
        "    self.head=None\n",
        "  def display(self):\n",
        "    if self.head is None :\n",
        "      print(\"DLL IS EMPTY\")\n",
        "    else :\n",
        "      temp=self.head\n",
        "      while temp:\n",
        "        print(temp.data,\"<==>\",end=\" \")\n",
        "        temp=temp.next\n",
        "  def delete_start(self):\n",
        "    temp=self.head\n",
        "    temp.next.prev=None\n",
        "    self.head=temp.next\n",
        "    temp.next=None\n",
        "obj=DLL()\n",
        "n1=Node(100)\n",
        "obj.head=n1\n",
        "n2=Node(200)\n",
        "n2.prev=n1\n",
        "n1.next=n2\n",
        "n3=Node(300)\n",
        "n3.prev=n2\n",
        "n2.next=n3\n",
        "print(\"DLL BEFORE DELETION :\")\n",
        "print(obj.display())\n",
        "print(\"\\nDLL AFTER DELETION :\")\n",
        "obj.delete_start()\n",
        "print(obj.display())"
      ],
      "metadata": {
        "colab": {
          "base_uri": "https://localhost:8080/"
        },
        "id": "2vlNJZ1ddlk_",
        "outputId": "7e7af9ff-4a2f-4711-8fc8-93dc05a0ca48"
      },
      "execution_count": null,
      "outputs": [
        {
          "output_type": "stream",
          "name": "stdout",
          "text": [
            "DLL BEFORE DELETION :\n",
            "100 <==> 200 <==> 300 <==> None\n",
            "\n",
            "DLL AFTER DELETION :\n",
            "200 <==> 300 <==> None\n"
          ]
        }
      ]
    },
    {
      "cell_type": "code",
      "source": [
        "#DELETION OF DLL AT END\n",
        "class Node:\n",
        "  def __init__(self,data):\n",
        "    self.data=data\n",
        "    self.prev=None\n",
        "    self.next=None\n",
        "class DLL:\n",
        "  def __init__(self):\n",
        "    self.head=None\n",
        "  def display(self):\n",
        "    if self.head is None :\n",
        "      print(\"DLL IS EMPTY\")\n",
        "    else :\n",
        "      temp=self.head\n",
        "      while temp:\n",
        "        print(temp.data,\"<==>\",end=\" \")\n",
        "        temp=temp.next\n",
        "  def delete_end(self):\n",
        "    temp=self.head\n",
        "    while temp.next is not None :\n",
        "      temp=temp.next\n",
        "      temp.next.prev=None \n",
        "      temp.next=None\n",
        "obj=DLL()\n",
        "n1=Node(100)\n",
        "obj.head=n1\n",
        "n2=Node(200)\n",
        "n2.prev=n1\n",
        "n1.next=n2\n",
        "n3=Node(300)\n",
        "n3.prev=n2\n",
        "n2.next=n3\n",
        "print(\"DLL BEFORE DELETION :\")\n",
        "print(obj.display())\n",
        "print(\"\\nDLL AFTER DELETION :\")\n",
        "obj.delete_end()\n",
        "print(obj.display())"
      ],
      "metadata": {
        "colab": {
          "base_uri": "https://localhost:8080/"
        },
        "id": "a3RfO50VgdTG",
        "outputId": "c6f8d1f5-87e1-4f1e-c5df-b6b4c3d973ac"
      },
      "execution_count": null,
      "outputs": [
        {
          "output_type": "stream",
          "name": "stdout",
          "text": [
            "DLL BEFORE DELETION :\n",
            "100 <==> 200 <==> 300 <==> None\n",
            "\n",
            "DLL AFTER DELETION :\n",
            "100 <==> 200 <==> None\n"
          ]
        }
      ]
    },
    {
      "cell_type": "code",
      "source": [
        "#DELETION OF DLL AT ANY POSITION\n",
        "class Node:\n",
        "  def __init__(self,data):\n",
        "    self.data=data\n",
        "    self.prev=None\n",
        "    self.next=None\n",
        "class DLL:\n",
        "  def __init__(self):\n",
        "    self.head=None\n",
        "  def display(self):\n",
        "    if self.head is None :\n",
        "      print(\"DLL IS EMPTY\")\n",
        "    else :\n",
        "      temp=self.head\n",
        "      while temp:\n",
        "        print(temp.data,\"<==>\",end=\" \")\n",
        "        temp=temp.next\n",
        "  def delete_pos(self,pos):\n",
        "    temp=self.head.next\n",
        "    prev=self.head\n",
        "    for i in range(1,pos-1):\n",
        "      temp=temp.next\n",
        "      prev=prev.next\n",
        "    prev.next=temp.next\n",
        "    temp.next=None\n",
        "obj=DLL()\n",
        "n1=Node(100)\n",
        "obj.head=n1\n",
        "n2=Node(200)\n",
        "n2.prev=n1\n",
        "n1.next=n2\n",
        "n3=Node(300)\n",
        "n3.prev=n2\n",
        "n2.next=n3\n",
        "print(\"DLL BEFORE DELETION :\")\n",
        "print(obj.display())\n",
        "print(\"\\nDLL AFTER DELETION :\")\n",
        "obj.delete_pos(2)\n",
        "print(obj.display())"
      ],
      "metadata": {
        "colab": {
          "base_uri": "https://localhost:8080/"
        },
        "id": "N3bfB3iyit2G",
        "outputId": "68600b3a-0b57-431e-d318-c092485a934c"
      },
      "execution_count": null,
      "outputs": [
        {
          "output_type": "stream",
          "name": "stdout",
          "text": [
            "DLL BEFORE DELETION :\n",
            "100 <==> 200 <==> 300 <==> None\n",
            "\n",
            "DLL AFTER DELETION :\n",
            "100 <==> 300 <==> None\n"
          ]
        }
      ]
    },
    {
      "cell_type": "code",
      "source": [
        "#CIRCULAR LINKED LIST CREATION\n",
        "class Node:\n",
        "  def __init__(self,data):\n",
        "    self.data=data\n",
        "    self.next=None\n",
        "class CreateList:\n",
        "  def __init__(self):\n",
        "    self.head=Node(None)\n",
        "    self.tail=Node(None)\n",
        "    self.head.next=self.tail\n",
        "    self.tail.next=self.head\n",
        "  def add(self,data):\n",
        "    newNode=Node(data)\n",
        "    if self.head.data is None:\n",
        "      self.head=newNode\n",
        "      self.tail=newNode\n",
        "      newNode.next=self.head\n",
        "    else:\n",
        "      self.tail.next=newNode\n",
        "      self.tail=newNode\n",
        "      self.tail.next=self.head\n",
        "  def display(self):\n",
        "    current=self.head\n",
        "    if self.head is None:\n",
        "      print(\"LIST IS EMPTY\")\n",
        "      return\n",
        "    else:\n",
        "      print(\"NODES OF THE CIRCULAR LINKED LIST :\")\n",
        "      print(current.data,\"-->\")\n",
        "      while(current.next!=self.head):\n",
        "        current=current.next\n",
        "        print(current.data,\"-->\")\n",
        "class CircularLinkedList:\n",
        "  c1=CreateList()\n",
        "  c1.add(\"S\")\n",
        "  c1.add(\"M\")\n",
        "  c1.add(\"I\")\n",
        "  c1.add(\"L\")\n",
        "  c1.add(\"E\")\n",
        "  print(c1.display())"
      ],
      "metadata": {
        "colab": {
          "base_uri": "https://localhost:8080/"
        },
        "id": "FUrF4G17Af0l",
        "outputId": "fb50e595-8a41-4f9a-ec10-7c6aff2924d7"
      },
      "execution_count": 2,
      "outputs": [
        {
          "output_type": "stream",
          "name": "stdout",
          "text": [
            "NODES OF THE CIRCULAR LINKED LIST :\n",
            "S -->\n",
            "M -->\n",
            "I -->\n",
            "L -->\n",
            "E -->\n",
            "None\n"
          ]
        }
      ]
    }
  ]
}