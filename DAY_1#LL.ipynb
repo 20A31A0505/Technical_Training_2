{
  "nbformat": 4,
  "nbformat_minor": 0,
  "metadata": {
    "colab": {
      "provenance": [],
      "authorship_tag": "ABX9TyPKxSb+sVkS2FWwpsY/7lQY",
      "include_colab_link": true
    },
    "kernelspec": {
      "name": "python3",
      "display_name": "Python 3"
    },
    "language_info": {
      "name": "python"
    }
  },
  "cells": [
    {
      "cell_type": "markdown",
      "metadata": {
        "id": "view-in-github",
        "colab_type": "text"
      },
      "source": [
        "<a href=\"https://colab.research.google.com/github/20A31A0505/Technical_Training_2/blob/main/DAY_1.ipynb\" target=\"_parent\"><img src=\"https://colab.research.google.com/assets/colab-badge.svg\" alt=\"Open In Colab\"/></a>"
      ]
    },
    {
      "cell_type": "markdown",
      "source": [
        "OOPS\n",
        "\n",
        "1.Class variables be accessed inside the method using keyword self.\n",
        "\n",
        "2.Instance variable can be accessed outside the class using objname.variablename.\n",
        "\n",
        "3.Variables inside methods are having local scope , we cannot access them outside the class."
      ],
      "metadata": {
        "id": "XJT617h9Nt3Q"
      }
    },
    {
      "cell_type": "code",
      "source": [
        "#oops\n",
        "class happy:\n",
        "  a=50\n",
        "  def method(self):\n",
        "    b=6\n",
        "    print(self.a )#to acess instance variable self is used\n",
        "    print(b) #local varaible cannot be accesed\n",
        "obj=happy()\n",
        "print(obj.a)\n",
        "obj.method()"
      ],
      "metadata": {
        "colab": {
          "base_uri": "https://localhost:8080/"
        },
        "id": "XyC6sYnpOVE5",
        "outputId": "f823a56d-6a90-480f-9749-ea002748879e"
      },
      "execution_count": null,
      "outputs": [
        {
          "output_type": "stream",
          "name": "stdout",
          "text": [
            "50\n",
            "50\n",
            "6\n"
          ]
        }
      ]
    },
    {
      "cell_type": "markdown",
      "source": [
        "ENCAPSULATION\n",
        "\n",
        "Encapsulation provides data security.\n",
        "\n",
        "1.Public\n",
        "\n",
        "2.Private\n",
        "\n",
        "3.Protected"
      ],
      "metadata": {
        "id": "VqIX3BfEQrWY"
      }
    },
    {
      "cell_type": "code",
      "source": [
        "#PROTECTED  --> marking a variable with single underscore(_) is termed as protected\n",
        "class encap:\n",
        "  _a=10\n",
        "  c=20\n",
        "  def encapfunction(self):\n",
        "    _b=200\n",
        "    print(\"encap function-accessing protected\")\n",
        "    print(self._a+10)\n",
        "    print(_b)\n",
        "obj=encap()\n",
        "print(obj._a)\n",
        "obj.encapfunction()\n",
        "print(obj.c)"
      ],
      "metadata": {
        "colab": {
          "base_uri": "https://localhost:8080/"
        },
        "id": "FVgXXL6CQkYH",
        "outputId": "5ef674e5-bed2-4896-ceb1-9166dc136573"
      },
      "execution_count": null,
      "outputs": [
        {
          "output_type": "stream",
          "name": "stdout",
          "text": [
            "10\n",
            "encap function-accessing protected\n",
            "20\n",
            "200\n",
            "20\n"
          ]
        }
      ]
    },
    {
      "cell_type": "code",
      "source": [
        "#PRIVATE   --> marking a variable with double underscore(__) is termed as private\n",
        "class encap:\n",
        "  __a=10\n",
        "  print(__a)\n",
        "  def encapfunction(self):\n",
        "    print(\"Encap function\")\n",
        "    print(self.__a)\n",
        "obj=encap()\n",
        "obj.encapfunction()\n",
        "print(obj.__a) # will throw error because a is private and cannot be accessed outside the class "
      ],
      "metadata": {
        "colab": {
          "base_uri": "https://localhost:8080/",
          "height": 252
        },
        "id": "K2mAyH-bUeR9",
        "outputId": "626f0cdd-7e07-4beb-e84f-11997b4a3cfb"
      },
      "execution_count": null,
      "outputs": [
        {
          "output_type": "stream",
          "name": "stdout",
          "text": [
            "10\n",
            "Encap function\n",
            "10\n"
          ]
        },
        {
          "output_type": "error",
          "ename": "AttributeError",
          "evalue": "ignored",
          "traceback": [
            "\u001b[0;31m---------------------------------------------------------------------------\u001b[0m",
            "\u001b[0;31mAttributeError\u001b[0m                            Traceback (most recent call last)",
            "\u001b[0;32m<ipython-input-12-5c59536b66f4>\u001b[0m in \u001b[0;36m<module>\u001b[0;34m\u001b[0m\n\u001b[1;32m      8\u001b[0m \u001b[0mobj\u001b[0m\u001b[0;34m=\u001b[0m\u001b[0mencap\u001b[0m\u001b[0;34m(\u001b[0m\u001b[0;34m)\u001b[0m\u001b[0;34m\u001b[0m\u001b[0;34m\u001b[0m\u001b[0m\n\u001b[1;32m      9\u001b[0m \u001b[0mobj\u001b[0m\u001b[0;34m.\u001b[0m\u001b[0mencapfunction\u001b[0m\u001b[0;34m(\u001b[0m\u001b[0;34m)\u001b[0m\u001b[0;34m\u001b[0m\u001b[0;34m\u001b[0m\u001b[0m\n\u001b[0;32m---> 10\u001b[0;31m \u001b[0mprint\u001b[0m\u001b[0;34m(\u001b[0m\u001b[0mobj\u001b[0m\u001b[0;34m.\u001b[0m\u001b[0m__a\u001b[0m\u001b[0;34m)\u001b[0m \u001b[0;31m# will throw erroe because a is private and cannot be accessed outside the class\u001b[0m\u001b[0;34m\u001b[0m\u001b[0;34m\u001b[0m\u001b[0m\n\u001b[0m",
            "\u001b[0;31mAttributeError\u001b[0m: 'encap' object has no attribute '__a'"
          ]
        }
      ]
    },
    {
      "cell_type": "code",
      "source": [
        "class encap:\n",
        "  __a=10\n",
        "  print(__a)\n",
        "  def encapfunction(self):\n",
        "    print(\"Encap function\")\n",
        "    print(self.__a)\n",
        "obj=encap()\n",
        "obj.encapfunction()"
      ],
      "metadata": {
        "colab": {
          "base_uri": "https://localhost:8080/"
        },
        "id": "o5MmJX-kVtzR",
        "outputId": "c8135006-fabb-4b60-92c4-2b6ef98f9e53"
      },
      "execution_count": null,
      "outputs": [
        {
          "output_type": "stream",
          "name": "stdout",
          "text": [
            "10\n",
            "Encap function\n",
            "10\n"
          ]
        }
      ]
    },
    {
      "cell_type": "markdown",
      "source": [
        "#DATA STRUCTURES\n",
        "\n",
        "In order to structurize the data to keep it effecient in terms of memory usage , extracting information is calles data structures.\n",
        "\n",
        "1.Linear\n",
        "\n",
        "          1.Static  -->Array                       \n",
        "          2.Dynamic   -->List,(Stack,Queue)\n",
        "\n",
        "2.Non Linear\n",
        "\n",
        "           1.Graph   --> Stack, Queue                                \n",
        "           2.Tree"
      ],
      "metadata": {
        "id": "T3erOIVFWgVz"
      }
    },
    {
      "cell_type": "markdown",
      "source": [
        "LINKED LIST\n",
        "\n",
        "List of data or items being linked with one another is called as linked list.\n",
        "\n",
        "Examples : Spotify, Multiple URL'S."
      ],
      "metadata": {
        "id": "Y8TvdjRRggpz"
      }
    },
    {
      "cell_type": "code",
      "source": [
        "x=200\n",
        "id(x)"
      ],
      "metadata": {
        "colab": {
          "base_uri": "https://localhost:8080/"
        },
        "id": "7xFty8X4iGZs",
        "outputId": "194fc98b-3d69-4561-a1bf-47a276092bbf"
      },
      "execution_count": null,
      "outputs": [
        {
          "output_type": "execute_result",
          "data": {
            "text/plain": [
              "9799456"
            ]
          },
          "metadata": {},
          "execution_count": 14
        }
      ]
    },
    {
      "cell_type": "code",
      "source": [
        "#Single Linked List\n",
        "class Node:\n",
        "  def __init__(self,data):\n",
        "    self.data=data\n",
        "    self.next=None\n",
        "class SLL:\n",
        "  def __init__(self):\n",
        "    self.head=None\n",
        "  def display(self):\n",
        "    if self.head is None :\n",
        "      print(\"SLL is empty\")\n",
        "    else :\n",
        "      temp=self.head\n",
        "      while(temp):\n",
        "        print(temp.data,\"==>\",end=\" \")\n",
        "        temp=temp.next\n",
        "obj=SLL()\n",
        "n1=Node(100)\n",
        "obj.head=n1\n",
        "n2=Node(200)\n",
        "obj.head.next=n2\n",
        "n3=Node(300)\n",
        "n2.next=n3\n",
        "print(obj.display())"
      ],
      "metadata": {
        "colab": {
          "base_uri": "https://localhost:8080/"
        },
        "id": "hsYbhCyk_JZo",
        "outputId": "1a1bd0ce-b3db-4318-ab20-e862d3ec764b"
      },
      "execution_count": 1,
      "outputs": [
        {
          "output_type": "stream",
          "name": "stdout",
          "text": [
            "100 ==> 200 ==> 300 ==> None\n"
          ]
        }
      ]
    },
    {
      "cell_type": "markdown",
      "source": [
        "SLL OPERATIONS\n",
        "\n",
        "\n",
        "*   Inserting new node at the begining\n",
        "*   Inserting new node at the end\n",
        "*   Inserting new node at the given position\n",
        "\n",
        "\n",
        "\n"
      ],
      "metadata": {
        "id": "Xg77RRCuKJm_"
      }
    },
    {
      "cell_type": "markdown",
      "source": [
        "INSERT AT BEGINING\n",
        "\n",
        "\n",
        "*   Create new node which we want to insert\n",
        "*   Makethe new node point to current new node\n",
        "\n",
        "*   Make the new node as head node\n",
        "\n",
        "\n",
        "\n"
      ],
      "metadata": {
        "id": "-32RMJYgLioU"
      }
    },
    {
      "cell_type": "code",
      "source": [
        "#SLL INSERTION AT BEGINING\n",
        "class Node:\n",
        "  def __init__(self,data):\n",
        "    self.data=data\n",
        "    self.next=None\n",
        "class singlelinkedlist:\n",
        "  def __init__(self):\n",
        "    self.head=None\n",
        "  def insert_begining(self,data):\n",
        "    nn=Node(data)\n",
        "    nn.next=self.head\n",
        "    self.head=nn\n",
        "  def display(self):\n",
        "    if self.head is None:\n",
        "      print(\"SLL is empty\")\n",
        "    else :\n",
        "      temp=self.head\n",
        "      while(temp):\n",
        "        print(temp.data,\"==>\",end=\" \")\n",
        "        temp=temp.next\n",
        "obj=singlelinkedlist()\n",
        "n1=Node(50)\n",
        "obj.head=n1\n",
        "n2=Node(70)\n",
        "n1.next=n2\n",
        "n3=Node(90)\n",
        "n2.next=n3\n",
        "n4=Node(30)\n",
        "n3.next=n4\n",
        "print(\"SLL BEFORE INSERTION\")\n",
        "print(obj.display())\n",
        "print(\"\\nSLL AFTER INSERTING 100: \")\n",
        "obj.insert_begining(100)\n",
        "print(obj.display())\n",
        "print(\"\\nSLL AFTER INSERTING 150 :\")\n",
        "obj.insert_begining(150)\n",
        "print(obj.display())"
      ],
      "metadata": {
        "colab": {
          "base_uri": "https://localhost:8080/"
        },
        "id": "JIuSMlY1BTK7",
        "outputId": "b9dd950f-d973-4884-ca45-b15bceb063cc"
      },
      "execution_count": 12,
      "outputs": [
        {
          "output_type": "stream",
          "name": "stdout",
          "text": [
            "SLL BEFORE INSERTION\n",
            "50 ==> 70 ==> 90 ==> 30 ==> None\n",
            "\n",
            "SLL AFTER INSERTING 100: \n",
            "100 ==> 50 ==> 70 ==> 90 ==> 30 ==> None\n",
            "\n",
            "SLL AFTER INSERTING 150 :\n",
            "150 ==> 100 ==> 50 ==> 70 ==> 90 ==> 30 ==> None\n"
          ]
        }
      ]
    },
    {
      "cell_type": "code",
      "source": [
        "#SLL INSERTION AT END\n",
        "class Node:\n",
        "  def __init__(self,data):\n",
        "    self.data=data\n",
        "    self.next=None\n",
        "class singlelinkedlist:\n",
        "  def __init__(self):\n",
        "    self.head=None\n",
        "  def insert_end(self,data):\n",
        "    nn=Node(data)\n",
        "    temp=self.head\n",
        "    while temp.next:\n",
        "      temp=temp.next\n",
        "    temp.next=nn\n",
        "  def display(self):\n",
        "    if self.head is None:\n",
        "      print(\"SLL is empty\")\n",
        "    else :\n",
        "      temp=self.head\n",
        "      while(temp):\n",
        "        print(temp.data,\"==>\",end=\" \")\n",
        "        temp=temp.next\n",
        "obj=singlelinkedlist()\n",
        "n1=Node(50)\n",
        "obj.head=n1\n",
        "n2=Node(70)\n",
        "n1.next=n2\n",
        "n3=Node(90)\n",
        "n2.next=n3\n",
        "n4=Node(30)\n",
        "n3.next=n4\n",
        "print(\"SLL BEFORE INSERTION\")\n",
        "print(obj.display())\n",
        "print(\"\\nSLL AFTER INSERTING 100: \")\n",
        "obj.insert_end(100)\n",
        "print(obj.display())\n",
        "print(\"\\nSLL AFTER INSERTING 150 :\")\n",
        "obj.insert_end(150)\n",
        "print(obj.display())"
      ],
      "metadata": {
        "colab": {
          "base_uri": "https://localhost:8080/"
        },
        "id": "KbBoakzOTk3z",
        "outputId": "35b4e7da-c3ca-4808-88bb-1b486de98716"
      },
      "execution_count": 13,
      "outputs": [
        {
          "output_type": "stream",
          "name": "stdout",
          "text": [
            "SLL BEFORE INSERTION\n",
            "50 ==> 70 ==> 90 ==> 30 ==> None\n",
            "\n",
            "SLL AFTER INSERTING 100: \n",
            "50 ==> 70 ==> 90 ==> 30 ==> 100 ==> None\n",
            "\n",
            "SLL AFTER INSERTING 150 :\n",
            "50 ==> 70 ==> 90 ==> 30 ==> 100 ==> 150 ==> None\n"
          ]
        }
      ]
    }
  ]
}
