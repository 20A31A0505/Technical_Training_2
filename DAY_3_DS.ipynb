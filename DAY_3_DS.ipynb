{
  "nbformat": 4,
  "nbformat_minor": 0,
  "metadata": {
    "colab": {
      "provenance": [],
      "authorship_tag": "ABX9TyNqhYKueul+MdqJJxbU8FTM",
      "include_colab_link": true
    },
    "kernelspec": {
      "name": "python3",
      "display_name": "Python 3"
    },
    "language_info": {
      "name": "python"
    }
  },
  "cells": [
    {
      "cell_type": "markdown",
      "metadata": {
        "id": "view-in-github",
        "colab_type": "text"
      },
      "source": [
        "<a href=\"https://colab.research.google.com/github/20A31A0505/Technical_Training_2/blob/main/DAY_3_DS.ipynb\" target=\"_parent\"><img src=\"https://colab.research.google.com/assets/colab-badge.svg\" alt=\"Open In Colab\"/></a>"
      ]
    },
    {
      "cell_type": "markdown",
      "source": [
        "#STACK\n",
        "#LIFO\n",
        "\n",
        "Stack can be implemented in three ways :\n",
        "\n",
        "\n",
        "1.   LIST\n",
        "2.   LINKED LIST\n",
        "\n",
        "1.   QUEUE(MODULE)\n",
        "\n",
        "OPERATIONS IN STACK :\n",
        "\n",
        "\n",
        "1.   PUSH\n",
        "2.   POP\n",
        "\n",
        "1.   PEAK/TOP\n",
        "2.   EMPTY/FULL\n",
        "\n",
        "\n",
        "\n",
        "\n",
        "\n",
        "\n",
        "\n"
      ],
      "metadata": {
        "id": "Dy2wTv2Zjq67"
      }
    },
    {
      "cell_type": "code",
      "source": [
        "#STACK IMPLEMENTATION USING LIST\n",
        "stack=[]\n",
        "def push():\n",
        "  element=int(input(\"Enter the element :\"))\n",
        "  stack.append(element)\n",
        "  print(stack)\n",
        "def pop_e():\n",
        "  if not stack:\n",
        "    print(\"Stack is empty\")\n",
        "  else:\n",
        "    e=stack.pop()\n",
        "    print(\"Removed element :\",e)\n",
        "    print(stack)\n",
        "while True:\n",
        "  print(\"Enter the operation 1.Push 2.Pop 3.Quit \")\n",
        "  choice=int(input(\"Enter the operation :\"))\n",
        "  if choice==1:\n",
        "    push()\n",
        "  elif choice==2:\n",
        "    pop_e()\n",
        "  elif choice==3:\n",
        "    break\n",
        "  else:\n",
        "    print(\"Enter the correct chioce :\")"
      ],
      "metadata": {
        "colab": {
          "base_uri": "https://localhost:8080/"
        },
        "id": "hT5-MFLwkHLa",
        "outputId": "12d085ba-0611-4560-ef20-fcc5b43fd7a0"
      },
      "execution_count": null,
      "outputs": [
        {
          "name": "stdout",
          "output_type": "stream",
          "text": [
            "Enter the operation 1.Push 2.Pop 3.Quit \n",
            "Enter the operation :1\n",
            "Enter the element :10\n",
            "[10]\n",
            "Enter the operation 1.Push 2.Pop 3.Quit \n",
            "Enter the operation :1\n",
            "Enter the element :20\n",
            "[10, 20]\n",
            "Enter the operation 1.Push 2.Pop 3.Quit \n",
            "Enter the operation :2\n",
            "Removed element : 20\n",
            "[10]\n",
            "Enter the operation 1.Push 2.Pop 3.Quit \n",
            "Enter the operation :1\n",
            "Enter the element :30\n",
            "[10, 30]\n",
            "Enter the operation 1.Push 2.Pop 3.Quit \n",
            "Enter the operation :2\n",
            "Removed element : 30\n",
            "[10]\n",
            "Enter the operation 1.Push 2.Pop 3.Quit \n",
            "Enter the operation :2\n",
            "Removed element : 10\n",
            "[]\n",
            "Enter the operation 1.Push 2.Pop 3.Quit \n",
            "Enter the operation :3\n"
          ]
        }
      ]
    },
    {
      "cell_type": "markdown",
      "source": [
        "#STACK IMPLEMENTATION USING LINKED LIST :\n",
        "\n",
        "\n",
        "*   Push is inserting the node at the begining\n",
        "*   Pop is removing the head\n",
        "\n",
        "\n",
        "\n"
      ],
      "metadata": {
        "id": "3k-tK1xCtNSb"
      }
    },
    {
      "cell_type": "code",
      "source": [
        " #STACK IMPLEMENTATION USING LINKED LIST\n",
        "class Node:\n",
        "   def __init__(self,data):\n",
        "     self.data=data\n",
        "     self.next=None\n",
        "class Stack:\n",
        "  def __init__(self):\n",
        "    self.head=None\n",
        "  def isempty(self):\n",
        "    if self.head==None:\n",
        "      return True\n",
        "    else:\n",
        "      return False\n",
        "  def push(self,data):\n",
        "    if self.head==None:\n",
        "      self.head=Node(data)\n",
        "    else :\n",
        "      newnode=Node(data)\n",
        "      newnode.next=self.head\n",
        "      self.head=newnode\n",
        "  def pop(self):\n",
        "    if self .isempty():\n",
        "      return None\n",
        "    else:\n",
        "      poppednode=self.head\n",
        "      self.head=self.head.next\n",
        "      poppednode.next=Node\n",
        "      return poppednode.data\n",
        "  def peek(self):\n",
        "    if self.isempty():\n",
        "      return None\n",
        "    else:\n",
        "      return self.head.data\n",
        "  def display(self):\n",
        "    temp=self.head\n",
        "    if self.isempty():\n",
        "      print(\"Stack Underflow\")\n",
        "    else:\n",
        "      while(temp!=None):\n",
        "        print(temp.data,end=\" \")\n",
        "        temp=temp.next\n",
        "        if(temp!=None):\n",
        "          print(\"-->\",end=\" \")\n",
        "      return\n",
        "if __name__==\"__main__\":\n",
        "  s=Stack()\n",
        "  s.push(1)\n",
        "  s.push(2)\n",
        "  s.push(3)\n",
        "  s.push(4)\n",
        "  s.display()\n",
        "  print(\" \")\n",
        "  print(\"Peek:\",s.peek())\n",
        "  s.pop()\n",
        "  s.display()\n",
        "  print(\" \")\n",
        "  print(\"Peek:\",s.peek())\n",
        "  s.pop()\n",
        "  s.display()\n",
        "  print(\" \")\n",
        "  print(\"Peek:\",s.peek())"
      ],
      "metadata": {
        "colab": {
          "base_uri": "https://localhost:8080/"
        },
        "id": "G44RGKknoSbr",
        "outputId": "fca13f7b-de83-491e-dd60-e77e96f33f3c"
      },
      "execution_count": null,
      "outputs": [
        {
          "output_type": "stream",
          "name": "stdout",
          "text": [
            "4 --> 3 --> 2 --> 1  \n",
            "Peek: 4\n",
            "3 --> 2 --> 1  \n",
            "Peek: 3\n",
            "2 --> 1  \n",
            "Peek: 2\n"
          ]
        }
      ]
    },
    {
      "cell_type": "markdown",
      "source": [
        "#QUEUEs\n",
        "  #FIFO"
      ],
      "metadata": {
        "id": "IwZyBnKmAZg5"
      }
    },
    {
      "cell_type": "code",
      "source": [
        "#STACK IMPLEMENTATION USING QUEUE MODULE\n",
        "from queue import LifoQueue\n",
        "s=LifoQueue(maxsize=3)\n",
        "print(\"Size of the stack initially :\",s.qsize())\n",
        "s.put(\"a\")                #put() is a inbuilt function used same as push\n",
        "s.put(\"b\")\n",
        "s.put(\"c\")\n",
        "print(s.full())           #returns True if the stack is full\n",
        "print(\"Size of the stack after pushing elements into  it :\",s.qsize())\n",
        "print(s.get())            #get() is a inbuilt function used same as pop\n",
        "print(s.get())\n",
        "print(s.get())\n",
        "print(s.empty())          #returns True if the stack is empty"
      ],
      "metadata": {
        "colab": {
          "base_uri": "https://localhost:8080/"
        },
        "id": "myeoZyVl32Cy",
        "outputId": "b2b0c4b4-0cb9-4f6b-f093-46f58f2d99e5"
      },
      "execution_count": null,
      "outputs": [
        {
          "output_type": "stream",
          "name": "stdout",
          "text": [
            "Size of the stack initially : 0\n",
            "True\n",
            "Size of the stack after pushing elements into  it : 3\n",
            "c\n",
            "b\n",
            "a\n",
            "True\n"
          ]
        }
      ]
    },
    {
      "cell_type": "code",
      "source": [
        "#QUEUE IMPLEMENTATION USING LIST\n",
        "queue=[]\n",
        "def enqueue():\n",
        "  element=int(input(\"Enter the element :\"))\n",
        "  queue.append(element)\n",
        "  print(element,\"is added in queue\")\n",
        "def dequeue():\n",
        "  if not queue:\n",
        "    print(\"Queue is empty\")\n",
        "  else:\n",
        "    e=queue.pop()\n",
        "    print(\"Removed element\",e)\n",
        "def display():\n",
        "  print(queue)\n",
        "while True:\n",
        "  print(\"Select Operation 1.Enqueue 2.Dequeue 3.Show 4.Quit\")\n",
        "  choice=int(input(\"Enter the choice :\"))\n",
        "  if choice==1:\n",
        "    enqueue()\n",
        "  elif choice==2:\n",
        "    dequeue()\n",
        "  elif choice==3:\n",
        "    display()\n",
        "  elif choice==4:\n",
        "    break\n",
        "  else:\n",
        "    print(\"Enter the correct choice !!\")"
      ],
      "metadata": {
        "colab": {
          "base_uri": "https://localhost:8080/"
        },
        "id": "g49JXXQr9TLp",
        "outputId": "2ce7487b-79cc-4fc5-fd98-7d7b7e47d8f6"
      },
      "execution_count": null,
      "outputs": [
        {
          "name": "stdout",
          "output_type": "stream",
          "text": [
            "Select Operation 1.Enqueue 2.Dequeue 3.Show 4.Quit\n",
            "Enter the choice :1\n",
            "Enter the element :1\n",
            "1 is added in queue\n",
            "Select Operation 1.Enqueue 2.Dequeue 3.Show 4.Quit\n",
            "Enter the choice :1\n",
            "Enter the element :7\n",
            "7 is added in queue\n",
            "Select Operation 1.Enqueue 2.Dequeue 3.Show 4.Quit\n",
            "Enter the choice :1\n",
            "Enter the element :8\n",
            "8 is added in queue\n",
            "Select Operation 1.Enqueue 2.Dequeue 3.Show 4.Quit\n",
            "Enter the choice :2\n",
            "Removed element 8\n",
            "Select Operation 1.Enqueue 2.Dequeue 3.Show 4.Quit\n",
            "Enter the choice :2\n",
            "Removed element 7\n",
            "Select Operation 1.Enqueue 2.Dequeue 3.Show 4.Quit\n",
            "Enter the choice :2\n",
            "Removed element 1\n",
            "Select Operation 1.Enqueue 2.Dequeue 3.Show 4.Quit\n",
            "Enter the choice :3\n",
            "[]\n",
            "Select Operation 1.Enqueue 2.Dequeue 3.Show 4.Quit\n",
            "Enter the choice :4\n"
          ]
        }
      ]
    },
    {
      "cell_type": "code",
      "source": [
        "#QUEUE IMPLEMENTATION USING QUEUE MODULE\n",
        "import queue\n",
        "L=queue.Queue(maxsize=5)\n",
        "L.put(10)\n",
        "L.put(20)\n",
        "print(type(L))\n",
        "print(L.get())\n",
        "print(L.get())\n",
        "print(L.empty())"
      ],
      "metadata": {
        "colab": {
          "base_uri": "https://localhost:8080/"
        },
        "id": "jTIb9OSmAy-S",
        "outputId": "be73b5f1-e8b6-493c-9b10-550da59e5bdc"
      },
      "execution_count": null,
      "outputs": [
        {
          "output_type": "stream",
          "name": "stdout",
          "text": [
            "<class 'queue.Queue'>\n",
            "10\n",
            "20\n",
            "True\n"
          ]
        }
      ]
    },
    {
      "cell_type": "markdown",
      "source": [
        "#PROGRAM\n",
        "CREATE TWO STACKS:\n",
        "\n",
        "DEFINE THE SIZE OF BOTH STACKS AS 5:\n",
        "\n",
        "IF YOUR INPUT IS EVEN NUMBER IT HAS TO PUSHED IN STACK_1 AND OTHER INPUTS HAS TO BE PUSHED IN STACK_2\n",
        "\n",
        "OPERATIONS:\n",
        "PUSH/POP/DISPLAY_STACK/QUIT"
      ],
      "metadata": {
        "id": "sRPosK9mCRxi"
      }
    },
    {
      "cell_type": "code",
      "source": [
        "stack_1=[]\n",
        "stack_2=[]\n",
        "def push():\n",
        "    element=int(input(\"Enter the element :\"))\n",
        "    if element%2==0:\n",
        "      stack_1.append(element)\n",
        "      print(\"stack_1\",stack_1)\n",
        "    else:\n",
        "      stack_2.append(element)\n",
        "      print(\"stack_2\",stack_2)\n",
        "def pop_e():\n",
        "  if not stack_1 and stack_2:\n",
        "    print(\"Stack is empty\")\n",
        "  else:\n",
        "    print(\"Enter the stack number from which you want to pop the element :\")\n",
        "    sno=int(input())\n",
        "    if sno==1:\n",
        "      e1=stack_1.pop()\n",
        "      print(\"Removed element :\",e1)\n",
        "      print(\"stack_1\",stack_1)\n",
        "    elif sno==2:\n",
        "      e2=stack_2.pop()\n",
        "      print(\"Removed element :\",e2)\n",
        "      print(\"stack_2\",stack_2)\n",
        "    else:\n",
        "      print(\"Enter correct chioce\")\n",
        "def display():\n",
        "  print(\"Enter the stack number which you want to display :\")\n",
        "  no=int(input())\n",
        "  if no==1:\n",
        "    print(\"stack_1\",stack_1)\n",
        "  elif no==2:\n",
        "    print(\"stack_2\",stack_2)\n",
        "  else :\n",
        "    print(\"Enter correct choice\")\n",
        "while True:\n",
        "  print(\"Enter the operation 1.Push 2.Pop 3.Display 4.Quit \")\n",
        "  choice=int(input(\"Enter the operation :\"))\n",
        "  if choice==1:\n",
        "    push()\n",
        "  elif choice==2:\n",
        "    pop_e()\n",
        "  elif choice==3:\n",
        "    display()\n",
        "  elif choice==4:\n",
        "    break\n",
        "  else:\n",
        "    print(\"Enter the correct choice :\")"
      ],
      "metadata": {
        "colab": {
          "base_uri": "https://localhost:8080/"
        },
        "id": "5HV5Ux42T7kS",
        "outputId": "ff17cb1b-0d71-4855-80fd-2cb8652581bb"
      },
      "execution_count": 14,
      "outputs": [
        {
          "name": "stdout",
          "output_type": "stream",
          "text": [
            "Enter the operation 1.Push 2.Pop 3.Display 4.Quit \n",
            "Enter the operation :1\n",
            "Enter the element :18\n",
            "stack_1 [18]\n",
            "Enter the operation 1.Push 2.Pop 3.Display 4.Quit \n",
            "Enter the operation :1\n",
            "Enter the element :3\n",
            "stack_2 [3]\n",
            "Enter the operation 1.Push 2.Pop 3.Display 4.Quit \n",
            "Enter the operation :1\n",
            "Enter the element :21\n",
            "stack_2 [3, 21]\n",
            "Enter the operation 1.Push 2.Pop 3.Display 4.Quit \n",
            "Enter the operation :1\n",
            "Enter the element :16\n",
            "stack_1 [18, 16]\n",
            "Enter the operation 1.Push 2.Pop 3.Display 4.Quit \n",
            "Enter the operation :2\n",
            "Enter the stack number from which you want to pop the element :\n",
            "1\n",
            "Removed element : 16\n",
            "stack_1 [18]\n",
            "Enter the operation 1.Push 2.Pop 3.Display 4.Quit \n",
            "Enter the operation :2\n",
            "Enter the stack number from which you want to pop the element :\n",
            "2\n",
            "Removed element : 21\n",
            "stack_2 [3]\n",
            "Enter the operation 1.Push 2.Pop 3.Display 4.Quit \n",
            "Enter the operation :1\n",
            "Enter the element :2\n",
            "stack_1 [18, 2]\n",
            "Enter the operation 1.Push 2.Pop 3.Display 4.Quit \n",
            "Enter the operation :2\n",
            "Enter the stack number from which you want to pop the element :\n",
            "2\n",
            "Removed element : 3\n",
            "stack_2 []\n",
            "Enter the operation 1.Push 2.Pop 3.Display 4.Quit \n",
            "Enter the operation :2\n",
            "Enter the stack number from which you want to pop the element :\n",
            "1\n",
            "Removed element : 2\n",
            "stack_1 [18]\n",
            "Enter the operation 1.Push 2.Pop 3.Display 4.Quit \n",
            "Enter the operation :2\n",
            "Enter the stack number from which you want to pop the element :\n",
            "1\n",
            "Removed element : 18\n",
            "stack_1 []\n",
            "Enter the operation 1.Push 2.Pop 3.Display 4.Quit \n",
            "Enter the operation :3\n",
            "Enter the stack number which you want to display :\n",
            "1\n",
            "stack_1 []\n",
            "Enter the operation 1.Push 2.Pop 3.Display 4.Quit \n",
            "Enter the operation :3\n",
            "Enter the stack number which you want to display :\n",
            "2\n",
            "stack_2 []\n",
            "Enter the operation 1.Push 2.Pop 3.Display 4.Quit \n",
            "Enter the operation :4\n"
          ]
        }
      ]
    },
    {
      "cell_type": "code",
      "source": [
        "#QUEUE IMPLEMENTATION USING LINKED LIST\n",
        "class Node:\n",
        "  def __init__(self,data):\n",
        "    self.data=data\n",
        "    self.next=None\n",
        "class Queue:\n",
        "  def __init__(self):\n",
        "    self.head=None\n",
        "    self.last=None\n",
        "  def enqueue(self,data):\n",
        "    if self.last is None:\n",
        "      self.head=Node(data)\n",
        "      self.last=self.head\n",
        "    else:\n",
        "      self.last.next=Node(data)\n",
        "      self.last=self.last.next\n",
        "  def dequeue(self):\n",
        "    if self.head is None:\n",
        "      return Node\n",
        "    else:\n",
        "      to_return=self.head.data\n",
        "      self.head=self.head.next\n",
        "      return to_return\n",
        "a_queue=Queue()\n",
        "while True :\n",
        "  print(\"enqueue <value>\")\n",
        "  print(\"dequeue\")\n",
        "  print(\"quit\")\n",
        "  do=input(\"What would you like to do ?\").split()\n",
        "  operation=do[0].strip().lower()\n",
        "  if operation == \"enqueue\":\n",
        "    a_queue.enqueue(int(do[1]))\n",
        "  elif operation == \"dequeue\":\n",
        "    dequeued = a_queue.dequeue()\n",
        "    if dequeued is None:\n",
        "      print(\"Queue is empty\")\n",
        "    else :\n",
        "      print(\"Dequeued element:\",int(dequeued))\n",
        "  elif operation =='quit':\n",
        "    break"
      ],
      "metadata": {
        "colab": {
          "base_uri": "https://localhost:8080/"
        },
        "id": "p7VQ_Z-ih9wI",
        "outputId": "3ee725d5-b730-4ba9-9b6c-c2287299a4ff"
      },
      "execution_count": 16,
      "outputs": [
        {
          "name": "stdout",
          "output_type": "stream",
          "text": [
            "enqueue <value>\n",
            "dequeue\n",
            "quit\n",
            "What would you like to do ?enqueue 20\n",
            "enqueue <value>\n",
            "dequeue\n",
            "quit\n",
            "What would you like to do ?enqueue 30\n",
            "enqueue <value>\n",
            "dequeue\n",
            "quit\n",
            "What would you like to do ?dequeue\n",
            "Dequeued element: 20\n",
            "enqueue <value>\n",
            "dequeue\n",
            "quit\n",
            "What would you like to do ?dequeue\n",
            "Dequeued element: 30\n",
            "enqueue <value>\n",
            "dequeue\n",
            "quit\n",
            "What would you like to do ?quit\n"
          ]
        }
      ]
    },
    {
      "cell_type": "markdown",
      "source": [
        "#TYPES OF QUEUES\n",
        "\n",
        "\n",
        "1.   CIRCULAR QUEUE\n",
        "2.   PRIORITY QUEUE\n",
        "\n",
        "\n",
        "\n"
      ],
      "metadata": {
        "id": "LELaAgwYveRg"
      }
    },
    {
      "cell_type": "markdown",
      "source": [
        "**PRIORITY QUEUE**\n",
        "\n",
        "Those elements are in queue as per the priority given to the elements will get priviliged to pop from the queue.\n",
        "\n",
        "**CIRCULAR QUEUE**\n",
        "\n",
        "Empty spaces in the queue can be utilised ,once the queue is full, still want to add elements in a circular way."
      ],
      "metadata": {
        "id": "E25CQf0fxVVG"
      }
    },
    {
      "cell_type": "markdown",
      "source": [
        "**CIRCULAR QUEUE:**\n",
        "\n",
        "\n",
        "**Step-1:**  front,rear=-1\n",
        "\n",
        "**Step-2:**  while increasing the front, front=front+1\n",
        "\n",
        "**INSERTION :** rear=rear+1\n",
        "\n",
        "**DELETION  :** front=front+1\n",
        "\n",
        "\n"
      ],
      "metadata": {
        "id": "Ei2qP2Eg0Xqm"
      }
    }
  ]
}